{
 "cells": [
  {
   "cell_type": "code",
   "execution_count": 4,
   "metadata": {},
   "outputs": [],
   "source": [
    "# import the modules\n",
    "\n",
    "\n",
    "\n"
   ]
  },
  {
   "cell_type": "markdown",
   "metadata": {},
   "source": [
    "### Define the following functions as per the description, so that they can be called later to perform the tasks."
   ]
  },
  {
   "cell_type": "code",
   "execution_count": 5,
   "metadata": {},
   "outputs": [],
   "source": [
    "# to treat missing values\n",
    "\n",
    "def treat_null_values(df, method):\n",
    "    \"\"\"Treats the missing values in the dataframe.\n",
    "    \n",
    "    This function accepts a dataframe and the method to treat the missing value.\n",
    "    Depending on the method passed, impute/drop the missing values.\n",
    "        \n",
    "    Keyword arguments:\n",
    "    df -- pandas dataframe for which we want to treat the missing values\n",
    "    method -- method to treat the missing values\n",
    "    \"\"\"\n",
    "    \n",
    "    "
   ]
  },
  {
   "cell_type": "code",
   "execution_count": 6,
   "metadata": {},
   "outputs": [],
   "source": [
    "\n",
    "# to seperate the numerical and categorical columns\n",
    "\n",
    "def num_and_cat_columns(df):\n",
    "    \"\"\"Return seperate list of numerical & categorical columns.\n",
    "    \n",
    "    This function accepts a dataframe and returns two lists,\n",
    "    one containing the names of numerical columns(num_cols) and the other categorical columns(cat_cols).\n",
    "        \n",
    "    Keyword arguments:\n",
    "    df -- pandas dataframe for which we want the list of columns\n",
    "    \n",
    "    Returns:\n",
    "    num_cols -- list of numerical columns\n",
    "    cat_cols -- list of categorical columns\n",
    "    \"\"\"\n",
    "    \n",
    "    \n",
    "    "
   ]
  },
  {
   "cell_type": "code",
   "execution_count": 7,
   "metadata": {},
   "outputs": [],
   "source": [
    "# to encode the categorical column so as to convert them to numeric.\n",
    "    \n",
    "def encode_category(df, enc, col, method):\n",
    "    \"\"\"Encodes the categorical columns of the dataframe.\n",
    "    \n",
    "    This function accepts a dataframe and columns to be encoded along with the method to be used for encoding.\n",
    "        \n",
    "    Keyword arguments:\n",
    "    df -- pandas dataframe for which we want to encode the columns -- this dataframe would be transformed\n",
    "    enc -- the encoder - fitted on the train data\n",
    "    col -- list of columns that is to be encoded\n",
    "    method -- method to be used while encoding\n",
    "    \n",
    "    Returns:\n",
    "    df1 -- the encoded dataframe\n",
    "    \"\"\"\n",
    "    \n",
    "    "
   ]
  },
  {
   "cell_type": "code",
   "execution_count": 8,
   "metadata": {},
   "outputs": [],
   "source": [
    "# to clean the dollar sign from the currency column & convert it to float.\n",
    "    \n",
    "def clean_dollar(df, col):\n",
    "    \"\"\"Removes \"$\" sign from a column & converts it to float.\n",
    "    \n",
    "    This function accepts a dataframe and columns with $ sign to be converted to float.\n",
    "        \n",
    "    Keyword arguments:\n",
    "    df -- pandas dataframe for which we want to encode the columns\n",
    "    col -- list of columns that is to be converted\n",
    "    \n",
    "    Returns:\n",
    "    df -- the converted dataframe\n",
    "    \"\"\"\n",
    "    \n",
    "    \n"
   ]
  },
  {
   "cell_type": "code",
   "execution_count": 9,
   "metadata": {},
   "outputs": [],
   "source": [
    "# to visualize distributions of the column(s) by plotting them.\n",
    "    \n",
    "def plot_distribution(kind_, df, *col):\n",
    "    \"\"\"Plot distribution of the column(s).\n",
    "    \n",
    "    This function will plot a chart of the passed column as the 'kind' specified in kind_.\n",
    "    You can pass multiple columns to this function.\n",
    "        \n",
    "    Keyword arguments:\n",
    "    knid_ -- 'kind' of chart that will be plotted\n",
    "    df -- pandas dataframe which has the data\n",
    "    *col -- list of all the features for which we want to plot the distribution\n",
    "    \"\"\"\n",
    "    \n",
    "    "
   ]
  },
  {
   "cell_type": "code",
   "execution_count": 10,
   "metadata": {},
   "outputs": [],
   "source": [
    "# to apply transformation to any column\n",
    "\n",
    "def transform_column(df, col, transformation):\n",
    "    \"\"\"Apply transformation to the column(s).\n",
    "    \n",
    "    This function will apply the passed transformation to the given dataframe & columns.\n",
    "    You can pass multiple columns to this function.\n",
    "        \n",
    "    Keyword arguments:\n",
    "    df -- pandas dataframe which has the data\n",
    "    col -- list of all the features for which we want to apply the transformation\n",
    "    transformation -- the transformation we want to apply\n",
    "    \"\"\"\n",
    "    \n",
    "    \n",
    "    "
   ]
  },
  {
   "cell_type": "code",
   "execution_count": 11,
   "metadata": {},
   "outputs": [],
   "source": [
    "# to check outliers using box plot\n",
    "\n",
    "def check_outliers(df, col, cat):\n",
    "    \"\"\"Check outliers through boxplot.\n",
    "    \n",
    "    This function plots and displays the boxplot of the feature col vs all the categories defined. \n",
    "    Check for any outlier present.\n",
    "        \n",
    "    Keyword arguments:\n",
    "    df -- pandas dataframe which has the data\n",
    "    col -- the feature for which we want to plot the boxplot\n",
    "    cat -- the list of features (categorical) by which we want to check the outliers (for each category in each feature)\n",
    "    \"\"\"\n",
    "    \n",
    "    "
   ]
  },
  {
   "cell_type": "code",
   "execution_count": 12,
   "metadata": {},
   "outputs": [],
   "source": [
    "# to fit the model & return the score\n",
    "\n",
    "def fit_model(X_train, X_test, y_train, y_test, model):\n",
    "    \"\"\"Fit the model & return the score of the fitted model.\n",
    "    \n",
    "    This function accepts the test & train data and fits the given model to it and returns the score of the model.\n",
    "    \n",
    "    Keyword arguments:\n",
    "    X_train -- Train feature\n",
    "    X_test -- Test/Validation feature\n",
    "    y_train -- Train target\n",
    "    y_test -- Tets/Validation target\n",
    "    model -- the model to be fitted\n",
    "    \n",
    "    Returns:\n",
    "    r2 -- R-Square of the fitted model    \n",
    "    \"\"\"\n",
    "        \n",
    "    "
   ]
  },
  {
   "cell_type": "markdown",
   "metadata": {},
   "source": [
    "### Read the dataset. Take a look at the dataset. \n",
    "\n",
    "* Check the data types present in the dataframe.\n",
    "* Call the num_and_cat_columns() with train as the parameter and store the results.\n",
    "* Are there any missing values? Are there any Outliers? How do you want to treat them?\n"
   ]
  },
  {
   "cell_type": "code",
   "execution_count": 13,
   "metadata": {},
   "outputs": [],
   "source": [
    "# Code starts here\n",
    "\n",
    "\n",
    "\n",
    "\n",
    "# Code ends here"
   ]
  },
  {
   "cell_type": "markdown",
   "metadata": {},
   "source": [
    "### Visualize the data\n",
    "\n",
    "- Check for the categorical & continuous features. \n",
    "- Check out the best plots for plotting between categorical target and continuous features and try making some inferences from these plots.\n",
    "- Clean the data and apply some data preprocessing techniques"
   ]
  },
  {
   "cell_type": "code",
   "execution_count": 14,
   "metadata": {},
   "outputs": [],
   "source": [
    "# Code starts here\n",
    "\n",
    "# Have a look at the features, check the type where any currency is involved. \n",
    "# We have columns with compensations stored in form of strings. We need to clean it and convert this to numeric. \n",
    "# Call the clean_dollar() to do the same. \n",
    "\n",
    "\n"
   ]
  },
  {
   "cell_type": "code",
   "execution_count": 15,
   "metadata": {},
   "outputs": [],
   "source": [
    "# Check the distribution of certain columns you might find of interest. \n",
    "# This can be done by calling the plot_distribution(). \n",
    "# Apply some good transformation if required. Call transform_column() to do the same.\n",
    "\n"
   ]
  },
  {
   "cell_type": "code",
   "execution_count": 16,
   "metadata": {},
   "outputs": [],
   "source": [
    "# Before we proceed with the model fitting, we need to get rid of the categorical columns.\n",
    "# We can use One Hot Encoding or Label Encoding to convert the categorical columns to numeric.\n",
    "#Call the encode_category() with the list of columns and the method of encoding to do the same.\n",
    "\n"
   ]
  },
  {
   "cell_type": "code",
   "execution_count": 17,
   "metadata": {},
   "outputs": [],
   "source": [
    "# Now since we have encoded all the categorical columns, there shouldn't be any left in the data.\n",
    "# Check the same by calling num_and_cat_columns()\n",
    "\n",
    "\n"
   ]
  },
  {
   "cell_type": "markdown",
   "metadata": {},
   "source": [
    "### Model building\n",
    "\n",
    "- Separate the features and target.\n",
    "- Now let's come to the actual task, using linear regression, predict the `Total Compensation`. Use different techniques you have learned to imporove the performance of the model.\n",
    "- Try improving upon the `r2_score` (R-Square) using different parameters that give the best score. Call the `fit_model()` with respective parameters.\n",
    "\n"
   ]
  },
  {
   "cell_type": "code",
   "execution_count": 18,
   "metadata": {},
   "outputs": [],
   "source": [
    "# Code Starts here\n",
    "\n",
    "\n",
    "\n",
    "# Code ends here"
   ]
  },
  {
   "cell_type": "markdown",
   "metadata": {},
   "source": [
    "### Prediction on the test data and creating the sample submission file.\n",
    "\n",
    "- Load the test data and store the `Id` column in a separate variable.\n",
    "- Perform the same operations on the test data that you have performed on the train data.\n",
    "- Create the submission file as a `csv` file consisting of the `Id` column from the test data and your prediction as the second column."
   ]
  },
  {
   "cell_type": "code",
   "execution_count": 1,
   "metadata": {},
   "outputs": [],
   "source": [
    "# Code Starts here\n",
    "\n",
    "\n",
    "\n",
    "# Code ends here"
   ]
  }
 ],
 "metadata": {
  "kernelspec": {
   "display_name": "Python 3",
   "language": "python",
   "name": "python3"
  },
  "language_info": {
   "codemirror_mode": {
    "name": "ipython",
    "version": 3
   },
   "file_extension": ".py",
   "mimetype": "text/x-python",
   "name": "python",
   "nbconvert_exporter": "python",
   "pygments_lexer": "ipython3",
   "version": "3.7.3"
  }
 },
 "nbformat": 4,
 "nbformat_minor": 2
}
